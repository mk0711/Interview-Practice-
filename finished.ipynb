{
 "cells": [
  {
   "cell_type": "markdown",
   "metadata": {},
   "source": [
    "# Problem\n",
    "Tonal measures the cable length as the user extends and retracts the cable during a workout. \n",
    "These measurements are used for many smart real-time features, including detecting reps and sets.\n",
    "\n",
    "Detecting reps and sets with very high accuracy is fundamental to every user’s experience.\n",
    "Beyond automatically tracking what a user did, many other features depend on reps and sets, such as dynamically adjusting the weight and playing certain video or audio in response to the user’s actions.\n",
    "\n",
    "The files provided contain data collected from workouts on Tonal. \n",
    "1. Your first task is to clean this data to make it more useful as input to other downstream algorithms, like rep and set detection. (All of the problems in the data are artificially created, but they are realistic.)\n",
    "\n",
    "2. After cleaning the data, detect the times that sets end. It will be difficult to detect them all accurately, and we don’t expect very high accuracy.\n"
   ]
  },
  {
   "cell_type": "markdown",
   "metadata": {},
   "source": [
    "Data Format\n",
    "Each file corresponds to a workout, and the data is sampled at about 50 hz. \n",
    "The file format stores multiple types of tabular data in one file. You can think of it as multiple CSVs interwoven together where rows are in roughly chronological order. The first lines are the headers for each type of data, and each line begins with its data type identifier, a short string. You can limit your attention to lines beginning with “MD”, which stands for “motor data”, and ignore the other lines. The columns are defined below.\n",
    "\n",
    "“MD”​ - Data type identifier.\n",
    "“sequence_number”​ - An integer that always increases as data is written to the file. \n",
    "“time_ms”​ - The time of measurement.The units are milliseconds since the system turned on. \n",
    "“position_in”​ - The length of cable the user has pulled out, in units of inches.\n",
    "\n",
    "Deliverables\n",
    "Please spend four hours or less. We prefer for you to send partially completed work and explain your next steps rather than spend too much time. You can use any language, but Python, C/C++, Java, Kotlin, or Go are preferred. Send questions to Brandt at brandt@tonal.com.\n",
    "\n",
    "Please send us your code and a brief report, less than 3-4 pages explaining your process, choices, methods, and results. A notebook is ok. Given the limited time, we are less interested in accuracy, but more in what you tried, why, and what you would do next if you had more time.\n",
    "This assignment, data, and intellectual property belong to Tonal and are confidential.\n"
   ]
  },
  {
   "cell_type": "markdown",
   "metadata": {},
   "source": [
    "Importing libraries "
   ]
  },
  {
   "cell_type": "code",
   "execution_count": 454,
   "metadata": {},
   "outputs": [],
   "source": [
    "import numpy as np\n",
    "import pandas as pd\n",
    "import matplotlib.pyplot as plt\n",
    "from datetime import datetime"
   ]
  },
  {
   "cell_type": "markdown",
   "metadata": {},
   "source": [
    "# observing raw data "
   ]
  },
  {
   "cell_type": "code",
   "execution_count": 455,
   "metadata": {},
   "outputs": [
    {
     "data": {
      "text/html": [
       "<div>\n",
       "<style scoped>\n",
       "    .dataframe tbody tr th:only-of-type {\n",
       "        vertical-align: middle;\n",
       "    }\n",
       "\n",
       "    .dataframe tbody tr th {\n",
       "        vertical-align: top;\n",
       "    }\n",
       "\n",
       "    .dataframe thead th {\n",
       "        text-align: right;\n",
       "    }\n",
       "</style>\n",
       "<table border=\"1\" class=\"dataframe\">\n",
       "  <thead>\n",
       "    <tr style=\"text-align: right;\">\n",
       "      <th></th>\n",
       "      <th>MD</th>\n",
       "      <th>sequence_number</th>\n",
       "      <th>time_ms</th>\n",
       "      <th>position_in</th>\n",
       "    </tr>\n",
       "  </thead>\n",
       "  <tbody>\n",
       "    <tr>\n",
       "      <td>SW</td>\n",
       "      <td>sequence_number</td>\n",
       "      <td>movement_id</td>\n",
       "      <td>prev_weight_lb</td>\n",
       "      <td>suggested_weight_lb</td>\n",
       "    </tr>\n",
       "    <tr>\n",
       "      <td>FES</td>\n",
       "      <td>sequence_number</td>\n",
       "      <td>how_set_ended</td>\n",
       "      <td>NaN</td>\n",
       "      <td>NaN</td>\n",
       "    </tr>\n",
       "    <tr>\n",
       "      <td>RG</td>\n",
       "      <td>sequence_number</td>\n",
       "      <td>rep_goal</td>\n",
       "      <td>NaN</td>\n",
       "      <td>NaN</td>\n",
       "    </tr>\n",
       "    <tr>\n",
       "      <td>RA</td>\n",
       "      <td>sequence_number</td>\n",
       "      <td>NaN</td>\n",
       "      <td>NaN</td>\n",
       "      <td>NaN</td>\n",
       "    </tr>\n",
       "    <tr>\n",
       "      <td>MD</td>\n",
       "      <td>65972</td>\n",
       "      <td>3464940535</td>\n",
       "      <td>-0.038326</td>\n",
       "      <td>NaN</td>\n",
       "    </tr>\n",
       "    <tr>\n",
       "      <td>MD</td>\n",
       "      <td>65973</td>\n",
       "      <td>3464940555</td>\n",
       "      <td>-0.180451</td>\n",
       "      <td>NaN</td>\n",
       "    </tr>\n",
       "    <tr>\n",
       "      <td>MD</td>\n",
       "      <td>65974</td>\n",
       "      <td>3464940574</td>\n",
       "      <td>0.048110</td>\n",
       "      <td>NaN</td>\n",
       "    </tr>\n",
       "    <tr>\n",
       "      <td>MD</td>\n",
       "      <td>65975</td>\n",
       "      <td>3464940594</td>\n",
       "      <td>-0.295862</td>\n",
       "      <td>NaN</td>\n",
       "    </tr>\n",
       "    <tr>\n",
       "      <td>MD</td>\n",
       "      <td>65976</td>\n",
       "      <td>3464940615</td>\n",
       "      <td>0.097723</td>\n",
       "      <td>NaN</td>\n",
       "    </tr>\n",
       "    <tr>\n",
       "      <td>MD</td>\n",
       "      <td>65977</td>\n",
       "      <td>3464940635</td>\n",
       "      <td>0.228060</td>\n",
       "      <td>NaN</td>\n",
       "    </tr>\n",
       "  </tbody>\n",
       "</table>\n",
       "</div>"
      ],
      "text/plain": [
       "                  MD sequence_number         time_ms          position_in\n",
       "SW   sequence_number     movement_id  prev_weight_lb  suggested_weight_lb\n",
       "FES  sequence_number   how_set_ended             NaN                  NaN\n",
       "RG   sequence_number        rep_goal             NaN                  NaN\n",
       "RA   sequence_number             NaN             NaN                  NaN\n",
       "MD             65972      3464940535       -0.038326                  NaN\n",
       "MD             65973      3464940555       -0.180451                  NaN\n",
       "MD             65974      3464940574        0.048110                  NaN\n",
       "MD             65975      3464940594       -0.295862                  NaN\n",
       "MD             65976      3464940615        0.097723                  NaN\n",
       "MD             65977      3464940635        0.228060                  NaN"
      ]
     },
     "execution_count": 455,
     "metadata": {},
     "output_type": "execute_result"
    }
   ],
   "source": [
    "raw = pd.read_csv(\"./tonal_data_assignment/workout1.csv\")\n",
    "raw.head(10)"
   ]
  },
  {
   "cell_type": "code",
   "execution_count": 449,
   "metadata": {},
   "outputs": [
    {
     "data": {
      "text/html": [
       "<div>\n",
       "<style scoped>\n",
       "    .dataframe tbody tr th:only-of-type {\n",
       "        vertical-align: middle;\n",
       "    }\n",
       "\n",
       "    .dataframe tbody tr th {\n",
       "        vertical-align: top;\n",
       "    }\n",
       "\n",
       "    .dataframe thead th {\n",
       "        text-align: right;\n",
       "    }\n",
       "</style>\n",
       "<table border=\"1\" class=\"dataframe\">\n",
       "  <thead>\n",
       "    <tr style=\"text-align: right;\">\n",
       "      <th></th>\n",
       "      <th>MD</th>\n",
       "      <th>sequence_number</th>\n",
       "      <th>time_ms</th>\n",
       "      <th>position_in</th>\n",
       "    </tr>\n",
       "  </thead>\n",
       "  <tbody>\n",
       "    <tr>\n",
       "      <td>count</td>\n",
       "      <td>154876</td>\n",
       "      <td>154874</td>\n",
       "      <td>154653</td>\n",
       "      <td>16</td>\n",
       "    </tr>\n",
       "    <tr>\n",
       "      <td>unique</td>\n",
       "      <td>154873</td>\n",
       "      <td>154651</td>\n",
       "      <td>150909</td>\n",
       "      <td>9</td>\n",
       "    </tr>\n",
       "    <tr>\n",
       "      <td>top</td>\n",
       "      <td>sequence_number</td>\n",
       "      <td>12</td>\n",
       "      <td>25.0</td>\n",
       "      <td>26.0</td>\n",
       "    </tr>\n",
       "    <tr>\n",
       "      <td>freq</td>\n",
       "      <td>4</td>\n",
       "      <td>81</td>\n",
       "      <td>5</td>\n",
       "      <td>4</td>\n",
       "    </tr>\n",
       "  </tbody>\n",
       "</table>\n",
       "</div>"
      ],
      "text/plain": [
       "                     MD sequence_number time_ms position_in\n",
       "count            154876          154874  154653          16\n",
       "unique           154873          154651  150909           9\n",
       "top     sequence_number              12    25.0        26.0\n",
       "freq                  4              81       5           4"
      ]
     },
     "execution_count": 449,
     "metadata": {},
     "output_type": "execute_result"
    }
   ],
   "source": [
    "raw.describe()"
   ]
  },
  {
   "cell_type": "code",
   "execution_count": 450,
   "metadata": {},
   "outputs": [
    {
     "data": {
      "text/plain": [
       "MD                 object\n",
       "sequence_number    object\n",
       "time_ms            object\n",
       "position_in        object\n",
       "dtype: object"
      ]
     },
     "execution_count": 450,
     "metadata": {},
     "output_type": "execute_result"
    }
   ],
   "source": [
    "raw.dtypes"
   ]
  },
  {
   "cell_type": "markdown",
   "metadata": {},
   "source": [
    "# load_data: exclude the first four rows and relocate columns."
   ]
  },
  {
   "cell_type": "code",
   "execution_count": 456,
   "metadata": {},
   "outputs": [
    {
     "data": {
      "text/html": [
       "<div>\n",
       "<style scoped>\n",
       "    .dataframe tbody tr th:only-of-type {\n",
       "        vertical-align: middle;\n",
       "    }\n",
       "\n",
       "    .dataframe tbody tr th {\n",
       "        vertical-align: top;\n",
       "    }\n",
       "\n",
       "    .dataframe thead th {\n",
       "        text-align: right;\n",
       "    }\n",
       "</style>\n",
       "<table border=\"1\" class=\"dataframe\">\n",
       "  <thead>\n",
       "    <tr style=\"text-align: right;\">\n",
       "      <th></th>\n",
       "      <th>MD</th>\n",
       "      <th>sequence_number</th>\n",
       "      <th>time_ms</th>\n",
       "      <th>position_in</th>\n",
       "    </tr>\n",
       "  </thead>\n",
       "  <tbody>\n",
       "    <tr>\n",
       "      <td>0</td>\n",
       "      <td>MD</td>\n",
       "      <td>65972.0</td>\n",
       "      <td>3464940535</td>\n",
       "      <td>-0.038326</td>\n",
       "    </tr>\n",
       "    <tr>\n",
       "      <td>1</td>\n",
       "      <td>MD</td>\n",
       "      <td>65973.0</td>\n",
       "      <td>3464940555</td>\n",
       "      <td>-0.180451</td>\n",
       "    </tr>\n",
       "    <tr>\n",
       "      <td>2</td>\n",
       "      <td>MD</td>\n",
       "      <td>65974.0</td>\n",
       "      <td>3464940574</td>\n",
       "      <td>0.048110</td>\n",
       "    </tr>\n",
       "    <tr>\n",
       "      <td>3</td>\n",
       "      <td>MD</td>\n",
       "      <td>65975.0</td>\n",
       "      <td>3464940594</td>\n",
       "      <td>-0.295862</td>\n",
       "    </tr>\n",
       "    <tr>\n",
       "      <td>4</td>\n",
       "      <td>MD</td>\n",
       "      <td>65976.0</td>\n",
       "      <td>3464940615</td>\n",
       "      <td>0.097723</td>\n",
       "    </tr>\n",
       "    <tr>\n",
       "      <td>...</td>\n",
       "      <td>...</td>\n",
       "      <td>...</td>\n",
       "      <td>...</td>\n",
       "      <td>...</td>\n",
       "    </tr>\n",
       "    <tr>\n",
       "      <td>154869</td>\n",
       "      <td>RG</td>\n",
       "      <td>221738.0</td>\n",
       "      <td>0</td>\n",
       "      <td>NaN</td>\n",
       "    </tr>\n",
       "    <tr>\n",
       "      <td>154870</td>\n",
       "      <td>MD</td>\n",
       "      <td>221739.0</td>\n",
       "      <td>3.46804e+09</td>\n",
       "      <td>0.185092</td>\n",
       "    </tr>\n",
       "    <tr>\n",
       "      <td>154871</td>\n",
       "      <td>RA</td>\n",
       "      <td>221740.0</td>\n",
       "      <td>NaN</td>\n",
       "      <td>NaN</td>\n",
       "    </tr>\n",
       "    <tr>\n",
       "      <td>154872</td>\n",
       "      <td>#version:3.0</td>\n",
       "      <td>NaN</td>\n",
       "      <td>NaN</td>\n",
       "      <td>NaN</td>\n",
       "    </tr>\n",
       "    <tr>\n",
       "      <td>154873</td>\n",
       "      <td>#time:Sun Dec 08 17:22:49 PST 2019</td>\n",
       "      <td>NaN</td>\n",
       "      <td>NaN</td>\n",
       "      <td>NaN</td>\n",
       "    </tr>\n",
       "  </tbody>\n",
       "</table>\n",
       "<p>154874 rows × 4 columns</p>\n",
       "</div>"
      ],
      "text/plain": [
       "                                        MD  sequence_number      time_ms  \\\n",
       "0                                       MD          65972.0   3464940535   \n",
       "1                                       MD          65973.0   3464940555   \n",
       "2                                       MD          65974.0   3464940574   \n",
       "3                                       MD          65975.0   3464940594   \n",
       "4                                       MD          65976.0   3464940615   \n",
       "...                                    ...              ...          ...   \n",
       "154869                                  RG         221738.0            0   \n",
       "154870                                  MD         221739.0  3.46804e+09   \n",
       "154871                                  RA         221740.0          NaN   \n",
       "154872                        #version:3.0              NaN          NaN   \n",
       "154873  #time:Sun Dec 08 17:22:49 PST 2019              NaN          NaN   \n",
       "\n",
       "        position_in  \n",
       "0         -0.038326  \n",
       "1         -0.180451  \n",
       "2          0.048110  \n",
       "3         -0.295862  \n",
       "4          0.097723  \n",
       "...             ...  \n",
       "154869          NaN  \n",
       "154870     0.185092  \n",
       "154871          NaN  \n",
       "154872          NaN  \n",
       "154873          NaN  \n",
       "\n",
       "[154874 rows x 4 columns]"
      ]
     },
     "execution_count": 456,
     "metadata": {},
     "output_type": "execute_result"
    }
   ],
   "source": [
    "def load_data(path):\n",
    "    data = pd.read_csv(path, usecols=list(range(4))[0:], skiprows =[1,2,3,4])\n",
    "    return data\n",
    "\n",
    "data = load_data(\"./tonal_data_assignment/workout1.csv\")\n",
    "data"
   ]
  },
  {
   "cell_type": "markdown",
   "metadata": {},
   "source": [
    "# Saving last row which contains information about time "
   ]
  },
  {
   "cell_type": "code",
   "execution_count": 457,
   "metadata": {},
   "outputs": [
    {
     "data": {
      "text/plain": [
       "datetime.datetime(2019, 12, 8, 17, 22, 49)"
      ]
     },
     "execution_count": 457,
     "metadata": {},
     "output_type": "execute_result"
    }
   ],
   "source": [
    "def get_time(df):\n",
    "    t = df.tail(1).MD.values[0]\n",
    "    t = t[10:34]\n",
    "    utc_time = datetime.strptime(t,'%b %d %H:%M:%S PST %Y')\n",
    "    return utc_time\n",
    "\n",
    "time = get_time(data)\n",
    "time"
   ]
  },
  {
   "cell_type": "code",
   "execution_count": 458,
   "metadata": {},
   "outputs": [
    {
     "data": {
      "text/html": [
       "<div>\n",
       "<style scoped>\n",
       "    .dataframe tbody tr th:only-of-type {\n",
       "        vertical-align: middle;\n",
       "    }\n",
       "\n",
       "    .dataframe tbody tr th {\n",
       "        vertical-align: top;\n",
       "    }\n",
       "\n",
       "    .dataframe thead th {\n",
       "        text-align: right;\n",
       "    }\n",
       "</style>\n",
       "<table border=\"1\" class=\"dataframe\">\n",
       "  <thead>\n",
       "    <tr style=\"text-align: right;\">\n",
       "      <th></th>\n",
       "      <th>sequence_number</th>\n",
       "      <th>position_in</th>\n",
       "    </tr>\n",
       "  </thead>\n",
       "  <tbody>\n",
       "    <tr>\n",
       "      <td>count</td>\n",
       "      <td>154872.000000</td>\n",
       "      <td>154652.000000</td>\n",
       "    </tr>\n",
       "    <tr>\n",
       "      <td>mean</td>\n",
       "      <td>143886.502305</td>\n",
       "      <td>12.273995</td>\n",
       "    </tr>\n",
       "    <tr>\n",
       "      <td>std</td>\n",
       "      <td>44977.603665</td>\n",
       "      <td>20.948031</td>\n",
       "    </tr>\n",
       "    <tr>\n",
       "      <td>min</td>\n",
       "      <td>65972.000000</td>\n",
       "      <td>-0.956493</td>\n",
       "    </tr>\n",
       "    <tr>\n",
       "      <td>25%</td>\n",
       "      <td>104946.750000</td>\n",
       "      <td>-0.009154</td>\n",
       "    </tr>\n",
       "    <tr>\n",
       "      <td>50%</td>\n",
       "      <td>143876.500000</td>\n",
       "      <td>0.245350</td>\n",
       "    </tr>\n",
       "    <tr>\n",
       "      <td>75%</td>\n",
       "      <td>182846.250000</td>\n",
       "      <td>20.837047</td>\n",
       "    </tr>\n",
       "    <tr>\n",
       "      <td>max</td>\n",
       "      <td>221740.000000</td>\n",
       "      <td>99.433487</td>\n",
       "    </tr>\n",
       "  </tbody>\n",
       "</table>\n",
       "</div>"
      ],
      "text/plain": [
       "       sequence_number    position_in\n",
       "count    154872.000000  154652.000000\n",
       "mean     143886.502305      12.273995\n",
       "std       44977.603665      20.948031\n",
       "min       65972.000000      -0.956493\n",
       "25%      104946.750000      -0.009154\n",
       "50%      143876.500000       0.245350\n",
       "75%      182846.250000      20.837047\n",
       "max      221740.000000      99.433487"
      ]
     },
     "execution_count": 458,
     "metadata": {},
     "output_type": "execute_result"
    }
   ],
   "source": [
    "data.describe()"
   ]
  },
  {
   "cell_type": "markdown",
   "metadata": {},
   "source": [
    "missing columns "
   ]
  },
  {
   "cell_type": "code",
   "execution_count": 459,
   "metadata": {},
   "outputs": [
    {
     "data": {
      "text/plain": [
       "MD                  object\n",
       "sequence_number    float64\n",
       "time_ms             object\n",
       "position_in        float64\n",
       "dtype: object"
      ]
     },
     "execution_count": 459,
     "metadata": {},
     "output_type": "execute_result"
    }
   ],
   "source": [
    "data.dtypes"
   ]
  },
  {
   "cell_type": "markdown",
   "metadata": {},
   "source": [
    "# data cleaning: convert time_ms to numeric data and only select rows with 'MD' values"
   ]
  },
  {
   "cell_type": "code",
   "execution_count": 460,
   "metadata": {},
   "outputs": [],
   "source": [
    "def clean(df):\n",
    "    df.time_ms = pd.to_numeric(df.time_ms, errors='coerce')\n",
    "    df = df[df.MD == 'MD']\n",
    "    return df\n",
    "\n",
    "cleaned_data = clean(data)"
   ]
  },
  {
   "cell_type": "code",
   "execution_count": 461,
   "metadata": {},
   "outputs": [
    {
     "data": {
      "text/plain": [
       "MD                  object\n",
       "sequence_number    float64\n",
       "time_ms            float64\n",
       "position_in        float64\n",
       "dtype: object"
      ]
     },
     "execution_count": 461,
     "metadata": {},
     "output_type": "execute_result"
    }
   ],
   "source": [
    "cleaned_data.dtypes"
   ]
  },
  {
   "cell_type": "markdown",
   "metadata": {},
   "source": [
    "# observing time_ms"
   ]
  },
  {
   "cell_type": "code",
   "execution_count": 462,
   "metadata": {},
   "outputs": [
    {
     "data": {
      "text/plain": [
       "count    1.546370e+05\n",
       "mean     3.466264e+09\n",
       "std      2.788966e+07\n",
       "min     -1.994000e+03\n",
       "25%      3.465714e+09\n",
       "50%      3.466488e+09\n",
       "75%      3.467262e+09\n",
       "max      3.468035e+09\n",
       "Name: time_ms, dtype: float64"
      ]
     },
     "execution_count": 462,
     "metadata": {},
     "output_type": "execute_result"
    }
   ],
   "source": [
    "cleaned_data.time_ms.describe()"
   ]
  },
  {
   "cell_type": "code",
   "execution_count": 466,
   "metadata": {},
   "outputs": [
    {
     "name": "stdout",
     "output_type": "stream",
     "text": [
      "268.0 -1994.0\n"
     ]
    }
   ],
   "source": [
    "min1 = cleaned_data[cleaned_data.time_ms > 0].time_ms.min()\n",
    "min2 = cleaned_data.time_ms.min()\n",
    "print(min1 , min2)"
   ]
  },
  {
   "cell_type": "markdown",
   "metadata": {},
   "source": [
    "# Found anomaly in time_ms "
   ]
  },
  {
   "cell_type": "code",
   "execution_count": 467,
   "metadata": {},
   "outputs": [
    {
     "data": {
      "text/html": [
       "<div>\n",
       "<style scoped>\n",
       "    .dataframe tbody tr th:only-of-type {\n",
       "        vertical-align: middle;\n",
       "    }\n",
       "\n",
       "    .dataframe tbody tr th {\n",
       "        vertical-align: top;\n",
       "    }\n",
       "\n",
       "    .dataframe thead th {\n",
       "        text-align: right;\n",
       "    }\n",
       "</style>\n",
       "<table border=\"1\" class=\"dataframe\">\n",
       "  <thead>\n",
       "    <tr style=\"text-align: right;\">\n",
       "      <th></th>\n",
       "      <th>MD</th>\n",
       "      <th>sequence_number</th>\n",
       "      <th>time_ms</th>\n",
       "      <th>position_in</th>\n",
       "      <th>new_time</th>\n",
       "      <th>recorded_date</th>\n",
       "    </tr>\n",
       "  </thead>\n",
       "  <tbody>\n",
       "    <tr>\n",
       "      <td>138344</td>\n",
       "      <td>MD</td>\n",
       "      <td>205162.0</td>\n",
       "      <td>268.0</td>\n",
       "      <td>0.169899</td>\n",
       "      <td>-3.464940e+09</td>\n",
       "      <td>1.572358e+12</td>\n",
       "    </tr>\n",
       "  </tbody>\n",
       "</table>\n",
       "</div>"
      ],
      "text/plain": [
       "        MD  sequence_number  time_ms  position_in      new_time  recorded_date\n",
       "138344  MD         205162.0    268.0     0.169899 -3.464940e+09   1.572358e+12"
      ]
     },
     "execution_count": 467,
     "metadata": {},
     "output_type": "execute_result"
    }
   ],
   "source": [
    "test[test.time_ms  == 268.0]"
   ]
  },
  {
   "cell_type": "code",
   "execution_count": 468,
   "metadata": {},
   "outputs": [
    {
     "data": {
      "text/html": [
       "<div>\n",
       "<style scoped>\n",
       "    .dataframe tbody tr th:only-of-type {\n",
       "        vertical-align: middle;\n",
       "    }\n",
       "\n",
       "    .dataframe tbody tr th {\n",
       "        vertical-align: top;\n",
       "    }\n",
       "\n",
       "    .dataframe thead th {\n",
       "        text-align: right;\n",
       "    }\n",
       "</style>\n",
       "<table border=\"1\" class=\"dataframe\">\n",
       "  <thead>\n",
       "    <tr style=\"text-align: right;\">\n",
       "      <th></th>\n",
       "      <th>MD</th>\n",
       "      <th>sequence_number</th>\n",
       "      <th>time_ms</th>\n",
       "      <th>position_in</th>\n",
       "    </tr>\n",
       "  </thead>\n",
       "  <tbody>\n",
       "    <tr>\n",
       "      <td>138340</td>\n",
       "      <td>MD</td>\n",
       "      <td>205158.0</td>\n",
       "      <td>3.467705e+09</td>\n",
       "      <td>-0.003395</td>\n",
       "    </tr>\n",
       "    <tr>\n",
       "      <td>138341</td>\n",
       "      <td>MD</td>\n",
       "      <td>205159.0</td>\n",
       "      <td>3.467705e+09</td>\n",
       "      <td>0.205587</td>\n",
       "    </tr>\n",
       "    <tr>\n",
       "      <td>138342</td>\n",
       "      <td>MD</td>\n",
       "      <td>205160.0</td>\n",
       "      <td>3.467705e+09</td>\n",
       "      <td>0.294726</td>\n",
       "    </tr>\n",
       "    <tr>\n",
       "      <td>138343</td>\n",
       "      <td>MD</td>\n",
       "      <td>205161.0</td>\n",
       "      <td>3.467705e+09</td>\n",
       "      <td>-0.144116</td>\n",
       "    </tr>\n",
       "    <tr>\n",
       "      <td>138344</td>\n",
       "      <td>MD</td>\n",
       "      <td>205162.0</td>\n",
       "      <td>2.680000e+02</td>\n",
       "      <td>0.169899</td>\n",
       "    </tr>\n",
       "    <tr>\n",
       "      <td>138345</td>\n",
       "      <td>MD</td>\n",
       "      <td>205163.0</td>\n",
       "      <td>3.467705e+09</td>\n",
       "      <td>0.125185</td>\n",
       "    </tr>\n",
       "    <tr>\n",
       "      <td>138346</td>\n",
       "      <td>MD</td>\n",
       "      <td>205164.0</td>\n",
       "      <td>3.467705e+09</td>\n",
       "      <td>-0.064206</td>\n",
       "    </tr>\n",
       "    <tr>\n",
       "      <td>138347</td>\n",
       "      <td>MD</td>\n",
       "      <td>205165.0</td>\n",
       "      <td>3.467705e+09</td>\n",
       "      <td>0.150522</td>\n",
       "    </tr>\n",
       "    <tr>\n",
       "      <td>138348</td>\n",
       "      <td>MD</td>\n",
       "      <td>205166.0</td>\n",
       "      <td>3.467705e+09</td>\n",
       "      <td>0.215047</td>\n",
       "    </tr>\n",
       "    <tr>\n",
       "      <td>138349</td>\n",
       "      <td>MD</td>\n",
       "      <td>205167.0</td>\n",
       "      <td>3.467705e+09</td>\n",
       "      <td>0.131902</td>\n",
       "    </tr>\n",
       "    <tr>\n",
       "      <td>138350</td>\n",
       "      <td>MD</td>\n",
       "      <td>205168.0</td>\n",
       "      <td>3.467705e+09</td>\n",
       "      <td>0.178001</td>\n",
       "    </tr>\n",
       "  </tbody>\n",
       "</table>\n",
       "</div>"
      ],
      "text/plain": [
       "        MD  sequence_number       time_ms  position_in\n",
       "138340  MD         205158.0  3.467705e+09    -0.003395\n",
       "138341  MD         205159.0  3.467705e+09     0.205587\n",
       "138342  MD         205160.0  3.467705e+09     0.294726\n",
       "138343  MD         205161.0  3.467705e+09    -0.144116\n",
       "138344  MD         205162.0  2.680000e+02     0.169899\n",
       "138345  MD         205163.0  3.467705e+09     0.125185\n",
       "138346  MD         205164.0  3.467705e+09    -0.064206\n",
       "138347  MD         205165.0  3.467705e+09     0.150522\n",
       "138348  MD         205166.0  3.467705e+09     0.215047\n",
       "138349  MD         205167.0  3.467705e+09     0.131902\n",
       "138350  MD         205168.0  3.467705e+09     0.178001"
      ]
     },
     "execution_count": 468,
     "metadata": {},
     "output_type": "execute_result"
    }
   ],
   "source": [
    "test = cleaned_data.loc[138340:138350]\n",
    "test "
   ]
  },
  {
   "cell_type": "markdown",
   "metadata": {},
   "source": [
    "# Creating new_time column to represent time in which each row was sampled in ms "
   ]
  },
  {
   "cell_type": "code",
   "execution_count": 470,
   "metadata": {},
   "outputs": [
    {
     "name": "stderr",
     "output_type": "stream",
     "text": [
      "/Users/mac/opt/anaconda3/lib/python3.7/site-packages/ipykernel_launcher.py:2: SettingWithCopyWarning: \n",
      "A value is trying to be set on a copy of a slice from a DataFrame.\n",
      "Try using .loc[row_indexer,col_indexer] = value instead\n",
      "\n",
      "See the caveats in the documentation: http://pandas.pydata.org/pandas-docs/stable/user_guide/indexing.html#returning-a-view-versus-a-copy\n",
      "  \n"
     ]
    },
    {
     "data": {
      "text/html": [
       "<div>\n",
       "<style scoped>\n",
       "    .dataframe tbody tr th:only-of-type {\n",
       "        vertical-align: middle;\n",
       "    }\n",
       "\n",
       "    .dataframe tbody tr th {\n",
       "        vertical-align: top;\n",
       "    }\n",
       "\n",
       "    .dataframe thead th {\n",
       "        text-align: right;\n",
       "    }\n",
       "</style>\n",
       "<table border=\"1\" class=\"dataframe\">\n",
       "  <thead>\n",
       "    <tr style=\"text-align: right;\">\n",
       "      <th></th>\n",
       "      <th>MD</th>\n",
       "      <th>sequence_number</th>\n",
       "      <th>time_ms</th>\n",
       "      <th>position_in</th>\n",
       "      <th>new_time</th>\n",
       "    </tr>\n",
       "  </thead>\n",
       "  <tbody>\n",
       "    <tr>\n",
       "      <td>0</td>\n",
       "      <td>MD</td>\n",
       "      <td>65972.0</td>\n",
       "      <td>3.464941e+09</td>\n",
       "      <td>-0.038326</td>\n",
       "      <td>0.0</td>\n",
       "    </tr>\n",
       "    <tr>\n",
       "      <td>1</td>\n",
       "      <td>MD</td>\n",
       "      <td>65973.0</td>\n",
       "      <td>3.464941e+09</td>\n",
       "      <td>-0.180451</td>\n",
       "      <td>20.0</td>\n",
       "    </tr>\n",
       "    <tr>\n",
       "      <td>2</td>\n",
       "      <td>MD</td>\n",
       "      <td>65974.0</td>\n",
       "      <td>3.464941e+09</td>\n",
       "      <td>0.048110</td>\n",
       "      <td>39.0</td>\n",
       "    </tr>\n",
       "    <tr>\n",
       "      <td>3</td>\n",
       "      <td>MD</td>\n",
       "      <td>65975.0</td>\n",
       "      <td>3.464941e+09</td>\n",
       "      <td>-0.295862</td>\n",
       "      <td>59.0</td>\n",
       "    </tr>\n",
       "    <tr>\n",
       "      <td>4</td>\n",
       "      <td>MD</td>\n",
       "      <td>65976.0</td>\n",
       "      <td>3.464941e+09</td>\n",
       "      <td>0.097723</td>\n",
       "      <td>80.0</td>\n",
       "    </tr>\n",
       "    <tr>\n",
       "      <td>...</td>\n",
       "      <td>...</td>\n",
       "      <td>...</td>\n",
       "      <td>...</td>\n",
       "      <td>...</td>\n",
       "      <td>...</td>\n",
       "    </tr>\n",
       "    <tr>\n",
       "      <td>154862</td>\n",
       "      <td>MD</td>\n",
       "      <td>221727.0</td>\n",
       "      <td>3.468035e+09</td>\n",
       "      <td>0.248732</td>\n",
       "      <td>3094640.0</td>\n",
       "    </tr>\n",
       "    <tr>\n",
       "      <td>154863</td>\n",
       "      <td>MD</td>\n",
       "      <td>221728.0</td>\n",
       "      <td>3.468035e+09</td>\n",
       "      <td>-0.256941</td>\n",
       "      <td>3094659.0</td>\n",
       "    </tr>\n",
       "    <tr>\n",
       "      <td>154864</td>\n",
       "      <td>MD</td>\n",
       "      <td>221729.0</td>\n",
       "      <td>3.468035e+09</td>\n",
       "      <td>0.077022</td>\n",
       "      <td>3094680.0</td>\n",
       "    </tr>\n",
       "    <tr>\n",
       "      <td>154866</td>\n",
       "      <td>MD</td>\n",
       "      <td>221732.0</td>\n",
       "      <td>3.468035e+09</td>\n",
       "      <td>-0.075056</td>\n",
       "      <td>3094700.0</td>\n",
       "    </tr>\n",
       "    <tr>\n",
       "      <td>154870</td>\n",
       "      <td>MD</td>\n",
       "      <td>221739.0</td>\n",
       "      <td>3.468035e+09</td>\n",
       "      <td>0.185092</td>\n",
       "      <td>3094720.0</td>\n",
       "    </tr>\n",
       "  </tbody>\n",
       "</table>\n",
       "<p>154637 rows × 5 columns</p>\n",
       "</div>"
      ],
      "text/plain": [
       "        MD  sequence_number       time_ms  position_in   new_time\n",
       "0       MD          65972.0  3.464941e+09    -0.038326        0.0\n",
       "1       MD          65973.0  3.464941e+09    -0.180451       20.0\n",
       "2       MD          65974.0  3.464941e+09     0.048110       39.0\n",
       "3       MD          65975.0  3.464941e+09    -0.295862       59.0\n",
       "4       MD          65976.0  3.464941e+09     0.097723       80.0\n",
       "...     ..              ...           ...          ...        ...\n",
       "154862  MD         221727.0  3.468035e+09     0.248732  3094640.0\n",
       "154863  MD         221728.0  3.468035e+09    -0.256941  3094659.0\n",
       "154864  MD         221729.0  3.468035e+09     0.077022  3094680.0\n",
       "154866  MD         221732.0  3.468035e+09    -0.075056  3094700.0\n",
       "154870  MD         221739.0  3.468035e+09     0.185092  3094720.0\n",
       "\n",
       "[154637 rows x 5 columns]"
      ]
     },
     "execution_count": 470,
     "metadata": {},
     "output_type": "execute_result"
    }
   ],
   "source": [
    "def new_time(df):\n",
    "    df[\"new_time\"] = df.time_ms - df.head(1).time_ms.values[0]\n",
    "    return df\n",
    "\n",
    "new_time(cleaned_data)"
   ]
  },
  {
   "cell_type": "markdown",
   "metadata": {},
   "source": [
    "# Creating recorded_date column that represents the date in which each row was recorded in ms (relative to its time in last row)"
   ]
  },
  {
   "cell_type": "code",
   "execution_count": 471,
   "metadata": {},
   "outputs": [
    {
     "name": "stderr",
     "output_type": "stream",
     "text": [
      "/Users/mac/opt/anaconda3/lib/python3.7/site-packages/ipykernel_launcher.py:4: SettingWithCopyWarning: \n",
      "A value is trying to be set on a copy of a slice from a DataFrame.\n",
      "Try using .loc[row_indexer,col_indexer] = value instead\n",
      "\n",
      "See the caveats in the documentation: http://pandas.pydata.org/pandas-docs/stable/user_guide/indexing.html#returning-a-view-versus-a-copy\n",
      "  after removing the cwd from sys.path.\n"
     ]
    },
    {
     "data": {
      "text/html": [
       "<div>\n",
       "<style scoped>\n",
       "    .dataframe tbody tr th:only-of-type {\n",
       "        vertical-align: middle;\n",
       "    }\n",
       "\n",
       "    .dataframe tbody tr th {\n",
       "        vertical-align: top;\n",
       "    }\n",
       "\n",
       "    .dataframe thead th {\n",
       "        text-align: right;\n",
       "    }\n",
       "</style>\n",
       "<table border=\"1\" class=\"dataframe\">\n",
       "  <thead>\n",
       "    <tr style=\"text-align: right;\">\n",
       "      <th></th>\n",
       "      <th>MD</th>\n",
       "      <th>sequence_number</th>\n",
       "      <th>time_ms</th>\n",
       "      <th>position_in</th>\n",
       "      <th>new_time</th>\n",
       "      <th>recorded_date</th>\n",
       "    </tr>\n",
       "  </thead>\n",
       "  <tbody>\n",
       "    <tr>\n",
       "      <td>0</td>\n",
       "      <td>MD</td>\n",
       "      <td>65972.0</td>\n",
       "      <td>3.464941e+09</td>\n",
       "      <td>-0.038326</td>\n",
       "      <td>0.0</td>\n",
       "      <td>1.575823e+12</td>\n",
       "    </tr>\n",
       "    <tr>\n",
       "      <td>1</td>\n",
       "      <td>MD</td>\n",
       "      <td>65973.0</td>\n",
       "      <td>3.464941e+09</td>\n",
       "      <td>-0.180451</td>\n",
       "      <td>20.0</td>\n",
       "      <td>1.575823e+12</td>\n",
       "    </tr>\n",
       "    <tr>\n",
       "      <td>2</td>\n",
       "      <td>MD</td>\n",
       "      <td>65974.0</td>\n",
       "      <td>3.464941e+09</td>\n",
       "      <td>0.048110</td>\n",
       "      <td>39.0</td>\n",
       "      <td>1.575823e+12</td>\n",
       "    </tr>\n",
       "    <tr>\n",
       "      <td>3</td>\n",
       "      <td>MD</td>\n",
       "      <td>65975.0</td>\n",
       "      <td>3.464941e+09</td>\n",
       "      <td>-0.295862</td>\n",
       "      <td>59.0</td>\n",
       "      <td>1.575823e+12</td>\n",
       "    </tr>\n",
       "    <tr>\n",
       "      <td>4</td>\n",
       "      <td>MD</td>\n",
       "      <td>65976.0</td>\n",
       "      <td>3.464941e+09</td>\n",
       "      <td>0.097723</td>\n",
       "      <td>80.0</td>\n",
       "      <td>1.575823e+12</td>\n",
       "    </tr>\n",
       "    <tr>\n",
       "      <td>...</td>\n",
       "      <td>...</td>\n",
       "      <td>...</td>\n",
       "      <td>...</td>\n",
       "      <td>...</td>\n",
       "      <td>...</td>\n",
       "      <td>...</td>\n",
       "    </tr>\n",
       "    <tr>\n",
       "      <td>154862</td>\n",
       "      <td>MD</td>\n",
       "      <td>221727.0</td>\n",
       "      <td>3.468035e+09</td>\n",
       "      <td>0.248732</td>\n",
       "      <td>3094640.0</td>\n",
       "      <td>1.575826e+12</td>\n",
       "    </tr>\n",
       "    <tr>\n",
       "      <td>154863</td>\n",
       "      <td>MD</td>\n",
       "      <td>221728.0</td>\n",
       "      <td>3.468035e+09</td>\n",
       "      <td>-0.256941</td>\n",
       "      <td>3094659.0</td>\n",
       "      <td>1.575826e+12</td>\n",
       "    </tr>\n",
       "    <tr>\n",
       "      <td>154864</td>\n",
       "      <td>MD</td>\n",
       "      <td>221729.0</td>\n",
       "      <td>3.468035e+09</td>\n",
       "      <td>0.077022</td>\n",
       "      <td>3094680.0</td>\n",
       "      <td>1.575826e+12</td>\n",
       "    </tr>\n",
       "    <tr>\n",
       "      <td>154866</td>\n",
       "      <td>MD</td>\n",
       "      <td>221732.0</td>\n",
       "      <td>3.468035e+09</td>\n",
       "      <td>-0.075056</td>\n",
       "      <td>3094700.0</td>\n",
       "      <td>1.575826e+12</td>\n",
       "    </tr>\n",
       "    <tr>\n",
       "      <td>154870</td>\n",
       "      <td>MD</td>\n",
       "      <td>221739.0</td>\n",
       "      <td>3.468035e+09</td>\n",
       "      <td>0.185092</td>\n",
       "      <td>3094720.0</td>\n",
       "      <td>1.575826e+12</td>\n",
       "    </tr>\n",
       "  </tbody>\n",
       "</table>\n",
       "<p>154637 rows × 6 columns</p>\n",
       "</div>"
      ],
      "text/plain": [
       "        MD  sequence_number       time_ms  position_in   new_time  \\\n",
       "0       MD          65972.0  3.464941e+09    -0.038326        0.0   \n",
       "1       MD          65973.0  3.464941e+09    -0.180451       20.0   \n",
       "2       MD          65974.0  3.464941e+09     0.048110       39.0   \n",
       "3       MD          65975.0  3.464941e+09    -0.295862       59.0   \n",
       "4       MD          65976.0  3.464941e+09     0.097723       80.0   \n",
       "...     ..              ...           ...          ...        ...   \n",
       "154862  MD         221727.0  3.468035e+09     0.248732  3094640.0   \n",
       "154863  MD         221728.0  3.468035e+09    -0.256941  3094659.0   \n",
       "154864  MD         221729.0  3.468035e+09     0.077022  3094680.0   \n",
       "154866  MD         221732.0  3.468035e+09    -0.075056  3094700.0   \n",
       "154870  MD         221739.0  3.468035e+09     0.185092  3094720.0   \n",
       "\n",
       "        recorded_date  \n",
       "0        1.575823e+12  \n",
       "1        1.575823e+12  \n",
       "2        1.575823e+12  \n",
       "3        1.575823e+12  \n",
       "4        1.575823e+12  \n",
       "...               ...  \n",
       "154862   1.575826e+12  \n",
       "154863   1.575826e+12  \n",
       "154864   1.575826e+12  \n",
       "154866   1.575826e+12  \n",
       "154870   1.575826e+12  \n",
       "\n",
       "[154637 rows x 6 columns]"
      ]
     },
     "execution_count": 471,
     "metadata": {},
     "output_type": "execute_result"
    }
   ],
   "source": [
    "def recorded_ms(df):\n",
    "    ms = get_time(data)\n",
    "    millisecs = (ms - datetime(1970, 1, 1)) // timedelta(milliseconds=1)\n",
    "    df['recorded_date'] = millisecs - cleaned_data.tail(1).new_time.values[0] + cleaned_data.new_time\n",
    "    return df\n",
    "\n",
    "recorded_ms(cleaned_data)"
   ]
  },
  {
   "cell_type": "code",
   "execution_count": 472,
   "metadata": {},
   "outputs": [
    {
     "data": {
      "text/plain": [
       "MD                  object\n",
       "sequence_number    float64\n",
       "time_ms            float64\n",
       "position_in        float64\n",
       "new_time           float64\n",
       "recorded_date      float64\n",
       "dtype: object"
      ]
     },
     "execution_count": 472,
     "metadata": {},
     "output_type": "execute_result"
    }
   ],
   "source": [
    "cleaned_data.dtypes"
   ]
  },
  {
   "cell_type": "code",
   "execution_count": 473,
   "metadata": {},
   "outputs": [
    {
     "data": {
      "text/plain": [
       "count    1.546370e+05\n",
       "mean     1.323218e+06\n",
       "std      2.788966e+07\n",
       "min     -3.464943e+09\n",
       "25%      7.735600e+05\n",
       "50%      1.547160e+06\n",
       "75%      2.321040e+06\n",
       "max      3.094720e+06\n",
       "Name: new_time, dtype: float64"
      ]
     },
     "execution_count": 473,
     "metadata": {},
     "output_type": "execute_result"
    }
   ],
   "source": [
    "cleaned_data.new_time.describe() # same anomaly (negative value needs to be handled)"
   ]
  },
  {
   "cell_type": "code",
   "execution_count": 474,
   "metadata": {},
   "outputs": [
    {
     "data": {
      "text/plain": [
       "[<matplotlib.lines.Line2D at 0x151be1290>]"
      ]
     },
     "execution_count": 474,
     "metadata": {},
     "output_type": "execute_result"
    },
    {
     "data": {
      "image/png": "[encoded data removed]",
      "text/plain": [
       "<Figure size 432x288 with 1 Axes>"
      ]
     },
     "metadata": {
      "needs_background": "light"
     },
     "output_type": "display_data"
    }
   ],
   "source": [
    "test = cleaned_data.iloc[0:154637]\n",
    "plt.plot(test.new_time, test.position_in)"
   ]
  },
  {
   "cell_type": "markdown",
   "metadata": {},
   "source": [
    "This does not give a very good insight. position_in needs to be observed "
   ]
  },
  {
   "cell_type": "markdown",
   "metadata": {},
   "source": [
    "# Observing position_in"
   ]
  },
  {
   "cell_type": "code",
   "execution_count": 475,
   "metadata": {
    "scrolled": true
   },
   "outputs": [
    {
     "data": {
      "text/plain": [
       "count    154637.000000\n",
       "mean         12.272819\n",
       "std          20.948571\n",
       "min          -0.956493\n",
       "25%          -0.009171\n",
       "50%           0.245308\n",
       "75%          20.831542\n",
       "max          99.433487\n",
       "Name: position_in, dtype: float64"
      ]
     },
     "execution_count": 475,
     "metadata": {},
     "output_type": "execute_result"
    }
   ],
   "source": [
    "cleaned_data.position_in.describe()"
   ]
  },
  {
   "cell_type": "markdown",
   "metadata": {},
   "source": [
    "# Visualization!\n"
   ]
  },
  {
   "cell_type": "code",
   "execution_count": 478,
   "metadata": {},
   "outputs": [
    {
     "data": {
      "image/png": "[encoded data removed]",
      "text/plain": [
       "<Figure size 432x288 with 1 Axes>"
      ]
     },
     "metadata": {
      "needs_background": "light"
     },
     "output_type": "display_data"
    }
   ],
   "source": [
    "def makeViz(df):\n",
    "    df = df[df.new_time >= 0] # handle anomaly here\n",
    "    plt.plot(df.time_ms,df.position_in)\n",
    "    \n",
    "makeViz(cleaned_data)"
   ]
  },
  {
   "cell_type": "markdown",
   "metadata": {},
   "source": [
    "# smaller data size"
   ]
  },
  {
   "cell_type": "code",
   "execution_count": 479,
   "metadata": {},
   "outputs": [
    {
     "data": {
      "text/plain": [
       "[<matplotlib.lines.Line2D at 0x142d2d3d0>]"
      ]
     },
     "execution_count": 479,
     "metadata": {},
     "output_type": "execute_result"
    },
    {
     "data": {
      "image/png": "[encoded data removed]",
      "text/plain": [
       "<Figure size 432x288 with 1 Axes>"
      ]
     },
     "metadata": {
      "needs_background": "light"
     },
     "output_type": "display_data"
    }
   ],
   "source": [
    "t = cleaned_data[cleaned_data.new_time >= 0]\n",
    "x = t[int(len(t) * 0.05):int(len(t) * 0.1)]\n",
    "plt.plot(x.time_ms,x.position_in)\n",
    "    "
   ]
  },
  {
   "cell_type": "markdown",
   "metadata": {},
   "source": [
    "# Get average position_in values in every 1 second (assumption: a person cannot complete a rep in less than a second)"
   ]
  },
  {
   "cell_type": "code",
   "execution_count": 509,
   "metadata": {},
   "outputs": [],
   "source": [
    "avg_pos = []\n",
    "def get_avg(df):\n",
    "    for i in range(0, len(df) - 50, 50):\n",
    "        avg_pos.append(np.mean(df.position_in[i:i+50]))\n",
    "    return avg_pos \n",
    "    "
   ]
  },
  {
   "cell_type": "code",
   "execution_count": 504,
   "metadata": {},
   "outputs": [
    {
     "name": "stdout",
     "output_type": "stream",
     "text": [
      "12.275764747166882 -0.08645422 94.83189306000003 0.08672735\n"
     ]
    }
   ],
   "source": [
    "mean = np.mean(avg_pos)\n",
    "minimum = min(avg_pos)\n",
    "maximum = max(avg_pos)\n",
    "median = np.median(avg_pos)\n",
    "print(mean, minimum, maximum, median)"
   ]
  },
  {
   "cell_type": "code",
   "execution_count": 481,
   "metadata": {},
   "outputs": [
    {
     "data": {
      "text/plain": [
       "[<matplotlib.lines.Line2D at 0x14df548d0>]"
      ]
     },
     "execution_count": 481,
     "metadata": {},
     "output_type": "execute_result"
    },
    {
     "data": {
      "image/png": "[encoded data removed]",
      "text/plain": [
       "<Figure size 432x288 with 1 Axes>"
      ]
     },
     "metadata": {
      "needs_background": "light"
     },
     "output_type": "display_data"
    }
   ],
   "source": [
    "plt.plot(cleaned_data.position_in)"
   ]
  },
  {
   "cell_type": "markdown",
   "metadata": {},
   "source": [
    "# A very bruteforce way..\n",
    "# explanation: iterate through entire data and find when the previous position in inches is greater or equal to 12 (roughly selected according to visualizaiton and average position_in in 1 second) if the next position inch is less than or  equal to 1, set has ended. "
   ]
  },
  {
   "cell_type": "code",
   "execution_count": 508,
   "metadata": {},
   "outputs": [
    {
     "data": {
      "text/plain": [
       "[1575822740680.0,\n",
       " 1575823178359.0,\n",
       " 1575823933740.0,\n",
       " 1575824683160.0,\n",
       " 1575825041640.0,\n",
       " 1575825239499.0]"
      ]
     },
     "execution_count": 508,
     "metadata": {},
     "output_type": "execute_result"
    }
   ],
   "source": [
    "sets_ended = []\n",
    "def get_ms(df):\n",
    "    for (i,row) in df.iterrows():\n",
    "        if(df.position_in[i] >= 12 and df.position_in[i+1] <= 1):\n",
    "            sets_ended.append(df.recorded_date[i])\n",
    "    return sets_ended\n",
    "        \n",
    "get_ms(cleaned_data)"
   ]
  },
  {
   "cell_type": "code",
   "execution_count": 506,
   "metadata": {},
   "outputs": [
    {
     "data": {
      "text/plain": [
       "[datetime.datetime(2019, 12, 8, 16, 32, 20, 680000),\n",
       " datetime.datetime(2019, 12, 8, 16, 39, 38, 359000),\n",
       " datetime.datetime(2019, 12, 8, 16, 52, 13, 740000),\n",
       " datetime.datetime(2019, 12, 8, 17, 4, 43, 160000),\n",
       " datetime.datetime(2019, 12, 8, 17, 10, 41, 640000),\n",
       " datetime.datetime(2019, 12, 8, 17, 13, 59, 499000)]"
      ]
     },
     "execution_count": 506,
     "metadata": {},
     "output_type": "execute_result"
    }
   ],
   "source": [
    "final_output = []\n",
    "def get_date(ls):\n",
    "    for i in range(len(ls)):\n",
    "        final_output.append(pd.to_datetime(ls[i], unit='ms').to_pydatetime())\n",
    "    return final_output\n",
    "    \n",
    "get_date(sets_ended)"
   ]
  },
  {
   "cell_type": "markdown",
   "metadata": {},
   "source": [
    "applying functions to all data (total of 6)"
   ]
  },
  {
   "cell_type": "markdown",
   "metadata": {},
   "source": [
    "# What to do next: "
   ]
  },
  {
   "cell_type": "markdown",
   "metadata": {},
   "source": [
    "A lot of data cleaning and adding new column process is in function format so that each functions can be used and applied to other files. However, this is not the best way to get the end time for each set. There were a lot of assumptions I made and optimization was not in consideraiton due to the time limit. Roughly selecting position_in value to represent the length in which cable is not being used based on visuazliation can cause many problems depending on what exercises the user is currently on. Regardless, I will create a for loop ranging from 0 to 5, and load in all the files using load_data() function by string concatenation. Then, i will run the functions listed above to get the final output for all files. "
   ]
  }
 ],
 "metadata": {
  "kernelspec": {
   "display_name": "Python 3",
   "language": "python",
   "name": "python3"
  },
  "language_info": {
   "codemirror_mode": {
    "name": "ipython",
    "version": 3
   },
   "file_extension": ".py",
   "mimetype": "text/x-python",
   "name": "python",
   "nbconvert_exporter": "python",
   "pygments_lexer": "ipython3",
   "version": "3.7.4"
  }
 },
 "nbformat": 4,
 "nbformat_minor": 2
}
